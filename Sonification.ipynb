{
 "cells": [
  {
   "cell_type": "code",
   "execution_count": 6,
   "metadata": {
    "collapsed": true
   },
   "outputs": [],
   "source": [
    "import pandas as pd\n",
    "import math\n",
    "\n",
    "#Read the data in\n",
    "df = pd.read_csv('backward_all.csv')"
   ]
  },
  {
   "cell_type": "code",
   "execution_count": 7,
   "metadata": {
    "collapsed": true
   },
   "outputs": [],
   "source": [
    "#Convert to negative weeks to death, so numbers are in chronological order\n",
    "df = df.sort_values(by='weeks_to_death', ascending=False)"
   ]
  },
  {
   "cell_type": "code",
   "execution_count": 8,
   "metadata": {},
   "outputs": [],
   "source": [
    "#df.head()"
   ]
  },
  {
   "cell_type": "code",
   "execution_count": 9,
   "metadata": {
    "collapsed": true
   },
   "outputs": [],
   "source": [
    "#Select albumin average for FEMALES in FMC_EUROPE\n",
    "# Get subset of the dataframe to sonify\n",
    "alb = df.loc[(df['database'] == 'FMC_EUROPE') & (df['MALE'] == 0), 'albumin_avg']\n",
    "\n",
    "#take 5 week rolling average, then normalize the values\n",
    "alb = alb.rolling(5).mean()[5:]\n",
    "alb = (alb - alb.min())/(alb.max() - alb.min())"
   ]
  },
  {
   "cell_type": "code",
   "execution_count": 10,
   "metadata": {
    "collapsed": true
   },
   "outputs": [],
   "source": [
    "# Config\n",
    "BPM = 120 # Beats per minute, e.g. 60, 75, 100, 120, 150\n",
    "DIVISIONS_PER_BEAT = 4 # e.g. 4 = quarter notes, 8 = eighth notes\n",
    "VARIANCE_MS = 20 # +/- milliseconds an instrument note should be off by to give it a little more \"natural\" feel\n",
    "VARIANCE_RATE = 0 # for adding variance to the playback rate\n",
    "INSTRUMENTS_INPUT_FILE = 'data/instruments.csv'\n",
    "\n",
    "REPORT_SUMMARY_OUTPUT_FILE = 'data/report_summary.csv'\n",
    "REPORT_SEQUENCE_OUTPUT_FILE = 'data/report_sequence.csv'\n",
    "INSTRUMENTS_OUTPUT_FILE = 'data/ck_instruments.csv'\n",
    "SEQUENCE_OUTPUT_FILE = 'data/ck_sequence.csv'\n",
    "\n",
    "INSTRUMENTS_DIR = 'instruments/'\n",
    "\n",
    "BEAT_MS = round(60.0 / BPM * 1000)\n",
    "ROUND_TO_NEAREST = round(BEAT_MS/DIVISIONS_PER_BEAT)"
   ]
  },
  {
   "cell_type": "code",
   "execution_count": 11,
   "metadata": {
    "collapsed": true
   },
   "outputs": [],
   "source": [
    "#For getting pseudo-random numbers\n",
    "def halton(index, base):\n",
    "    result = 0.0\n",
    "    f = 1.0 / base\n",
    "    i = 1.0 * index\n",
    "    while(i > 0):\n",
    "        result += f * (i % base)  \n",
    "        i = math.floor(i / base)\n",
    "        f = f / base\n",
    "    return result\n",
    "\n",
    "#Round n to the nearest nearest\n",
    "def roundToNearest(n, nearest):\n",
    "    return 1.0 * round(1.0*n/nearest) * nearest"
   ]
  },
  {
   "cell_type": "code",
   "execution_count": 12,
   "metadata": {
    "collapsed": true
   },
   "outputs": [],
   "source": [
    "# Make sure there's no sudden drop in gain\n",
    "def continueFromPrevious(instrument):\n",
    "\treturn instrument['Bracket Min'] > 0 or instrument['Bracket Max'] < 100\n",
    "\n",
    "# Multiplier based on sine curve\n",
    "def getMultiplier(percent_complete):\n",
    "\tradians = percent_complete * math.pi\n",
    "\tmultiplier = math.sin(radians)\n",
    "\tif multiplier < 0:\n",
    "\t\tmultiplier = 0.0\n",
    "\telif multiplier > 1:\n",
    "\t\tmultplier = 1.0\n",
    "\treturn multiplier\n",
    "\n",
    "# Retrieve gain based on current beat\n",
    "def getGain(instrument, beat):\n",
    "\tbeats_per_phase = instrument['Gain Phase']\n",
    "\tpercent_complete = float(beat % beats_per_phase) / beats_per_phase\n",
    "\tmultiplier = getMultiplier(percent_complete)\n",
    "\tfrom_gain = instrument['From Gain']\n",
    "\tto_gain = instrument['To Gain']\n",
    "\tmin_gain = min(from_gain, to_gain)\n",
    "\tgain = multiplier * (to_gain - from_gain) + from_gain\n",
    "\tgain = max(min_gain, round(gain, 2))\n",
    "\treturn gain\n",
    "\n",
    "# Get beat duration in ms based on current point in time\n",
    "def getBeatMs(instrument, beat, round_to):\t\n",
    "\tfrom_beat_ms = instrument['From Beat MS']\n",
    "\tto_beat_ms = instrument['To Beat MS']\n",
    "\tbeats_per_phase = instrument['Tempo Phase']\n",
    "\tpercent_complete = float(beat % beats_per_phase) / beats_per_phase\n",
    "\tmultiplier = getMultiplier(percent_complete)\n",
    "\tms = multiplier * (to_beat_ms - from_beat_ms) + from_beat_ms\n",
    "\tms = int(roundToNearest(ms, round_to))\n",
    "\treturn ms\n",
    "\n",
    "# Return if the instrument should be played in the given interval\n",
    "def isValidInterval(instrument, elapsed_ms):\n",
    "\tinterval_ms = instrument['Interval MS']\n",
    "\tinterval = instrument['Interval']\n",
    "\tinterval_offset = instrument['Interval Offset']\t\n",
    "\treturn int(math.floor(1.0*elapsed_ms/interval_ms)) % interval == interval_offset"
   ]
  },
  {
   "cell_type": "code",
   "execution_count": 13,
   "metadata": {
    "collapsed": true
   },
   "outputs": [],
   "source": [
    "#Read in instruments data, do some preprocessing (based on Foo's code)\n",
    "instruments = pd.read_table(INSTRUMENTS_INPUT_FILE)\n",
    "instruments['Type'] = instruments['Type'].str.lower().str.replace(' ','_')\n",
    "instruments['File'] = INSTRUMENTS_DIR + instruments['File']\n",
    "instruments['From Beat MS'] = round(BEAT_MS/instruments['From Tempo'])\n",
    "instruments['To Beat MS'] = round(BEAT_MS/instruments['To Tempo'])\n",
    "instruments['Interval MS'] = instruments['Interval Phase']*BEAT_MS"
   ]
  },
  {
   "cell_type": "code",
   "execution_count": 14,
   "metadata": {
    "collapsed": true
   },
   "outputs": [],
   "source": [
    "# Add beats to sequence\n",
    "def addBeatsToSequence(instrument, duration, ms, beat_ms, round_to):\n",
    "\tglobal sequence\n",
    "\tglobal hindex\n",
    "\toffset_ms = int(instrument['Tempo Offset'] * beat_ms)\n",
    "\tms += offset_ms\n",
    "\tprevious_ms = int(ms)\n",
    "\tfrom_beat_ms = instrument['From Beat MS']\n",
    "\tto_beat_ms = instrument['To Beat MS']\n",
    "\tmin_ms = min(from_beat_ms, to_beat_ms)\n",
    "\tremaining_duration = int(duration)\n",
    "\telapsed_duration = offset_ms\n",
    "\tcontinue_from_prev = continueFromPrevious(instrument)\n",
    "\twhile remaining_duration >= min_ms:\n",
    "\t\telapsed_ms = int(ms)\n",
    "\t\telapsed_beat = int((elapsed_ms-previous_ms) / beat_ms)\n",
    "\t\t# continue beat from previous\n",
    "\t\tif continue_from_prev:\n",
    "\t\t\telapsed_beat = int(elapsed_ms / beat_ms)\n",
    "\t\tthis_beat_ms = getBeatMs(instrument, elapsed_beat, round_to)\n",
    "\t\t# add to sequence if in valid interval\n",
    "\t\tif isValidInterval(instrument, elapsed_ms):\n",
    "\t\t\th = halton(hindex, 3)\n",
    "\t\t\tvariance = int(h * VARIANCE_MS * 2 - VARIANCE_MS)\n",
    "\t\t\trate_variance = float(h * VARIANCE_RATE * 2 - VARIANCE_RATE)\n",
    "\t\t\tsequence.append({\n",
    "\t\t\t\t'instrument_index': instrument['index'],\n",
    "\t\t\t\t'instrument': instrument,\n",
    "\t\t\t\t'position': 0,\n",
    "\t\t\t\t'gain': getGain(instrument, elapsed_beat),\n",
    "\t\t\t\t'rate': 1.0 + rate_variance,\n",
    "\t\t\t\t'elapsed_ms': max([elapsed_ms + variance, 0])\n",
    "\t\t\t})\n",
    "\t\t\thindex += 1\n",
    "\t\tremaining_duration -= this_beat_ms\n",
    "\t\telapsed_duration += this_beat_ms\n",
    "\t\tms += this_beat_ms"
   ]
  },
  {
   "cell_type": "code",
   "execution_count": 15,
   "metadata": {
    "collapsed": true
   },
   "outputs": [],
   "source": [
    "#Get number of instruments\n",
    "n_instruments = instruments.shape[0]\n",
    "\n",
    "#Amount of time, in MS, to spend on each data point\n",
    "week_duration = 1000\n",
    "\n",
    "sequence = []\n",
    "hindex = 0\n",
    "\n",
    "#Loop through each instrument\n",
    "for index, instrument in enumerate(instruments.iterrows()):\n",
    "    #ms is our current place in the song\n",
    "    ms = 0\n",
    "    #queue_duration is how long to play the instrument for current 'period' (accumulation of weeks)\n",
    "    queue_duration = 0\n",
    "    \n",
    "    instrument = instrument[1]\n",
    "    instrument['index'] = index\n",
    "    #Loop through each week's value\n",
    "    for week_val in alb:\n",
    "        #Should this instrument be playing for this week?\n",
    "        play_instrument = (week_val*n_instruments) > index\n",
    "        if play_instrument:\n",
    "            #add this week's duration to queue_duration, since instrument should play for this week\n",
    "            queue_duration += week_duration        \n",
    "        elif queue_duration > 0:\n",
    "            #We've stopped playing the instrument, add the queued beats to sequence and increment where we are in the song\n",
    "            addBeatsToSequence(instrument, queue_duration, ms, BEAT_MS, ROUND_TO_NEAREST)\n",
    "            ms += queue_duration + week_duration\n",
    "            queue_duration = 0\n",
    "        else:\n",
    "            #Not playing the instrument and weren't before this week, just skip this week\n",
    "            ms += week_duration\n",
    "    if queue_duration > 0:\n",
    "        #If we ended the song playing this instrument, make sure we add the residual queue time to the sequence\n",
    "        addBeatsToSequence(instrument, queue_duration, ms, BEAT_MS, ROUND_TO_NEAREST)\n",
    "    "
   ]
  },
  {
   "cell_type": "code",
   "execution_count": 16,
   "metadata": {
    "collapsed": true
   },
   "outputs": [],
   "source": [
    "# Sort sequence so beats happen in chronological order\n",
    "sequence = sorted(sequence, key=lambda k: k['elapsed_ms'])\n",
    "\n",
    "# Add milliseconds to sequence\n",
    "elapsed = 0\n",
    "for index, step in enumerate(sequence):\n",
    "\tsequence[index]['milliseconds'] = step['elapsed_ms'] - elapsed\n",
    "\telapsed = step['elapsed_ms']\n"
   ]
  },
  {
   "cell_type": "code",
   "execution_count": 17,
   "metadata": {},
   "outputs": [
    {
     "name": "stdout",
     "output_type": "stream",
     "text": [
      "Successfully wrote instruments to file: data/ck_instruments.csv\n",
      "Successfully wrote sequence to file: data/ck_sequence.csv\n"
     ]
    }
   ],
   "source": [
    "import csv\n",
    "import os \n",
    "\n",
    "# Write instruments to file\n",
    "with open(INSTRUMENTS_OUTPUT_FILE, 'w') as f:\n",
    "    w = csv.writer(f)\t\n",
    "    for index, instrument in enumerate(instruments.iterrows()):\n",
    "        w.writerow([index])\n",
    "        w.writerow([instrument[1]['File']])\n",
    "    #f.seek(-2, os.SEEK_END) # remove newline\n",
    "    f.seek(0, os.SEEK_END) # remove newline\n",
    "    f.truncate()\n",
    "    print('Successfully wrote instruments to file: '+INSTRUMENTS_OUTPUT_FILE)\n",
    "\n",
    "# Write sequence to file\n",
    "with open(SEQUENCE_OUTPUT_FILE, 'w') as f:\n",
    "    w = csv.writer(f)\t\n",
    "    for step in sequence:\n",
    "        w.writerow([step['instrument_index']])\n",
    "        w.writerow([step['position']])\n",
    "        w.writerow([step['gain']])\n",
    "        w.writerow([step['rate']])\n",
    "        w.writerow([step['milliseconds']])\n",
    "    f.seek(0, os.SEEK_END) # remove newline\n",
    "    f.truncate()\n",
    "    print('Successfully wrote sequence to file: '+SEQUENCE_OUTPUT_FILE)\n"
   ]
  },
  {
   "cell_type": "code",
   "execution_count": 18,
   "metadata": {},
   "outputs": [
    {
     "data": {
      "text/plain": [
       "(82, Name                               Subway Horn\n",
       " Type                                      wind\n",
       " Price                                      400\n",
       " Bracket Min                                  0\n",
       " Bracket Max                                100\n",
       " File               instruments/subway_horn.wav\n",
       " From Gain                                  0.1\n",
       " To Gain                                    0.3\n",
       " From Tempo                               0.125\n",
       " To Tempo                                 0.125\n",
       " Gain Phase                                  24\n",
       " Tempo Phase                                  8\n",
       " Tempo Offset                                 0\n",
       " Interval Phase                              16\n",
       " Interval                                     1\n",
       " Interval Offset                              0\n",
       " Active                                       1\n",
       " From Beat MS                              4000\n",
       " To Beat MS                                4000\n",
       " Interval MS                               8000\n",
       " Name: 82, dtype: object)"
      ]
     },
     "execution_count": 18,
     "metadata": {},
     "output_type": "execute_result"
    }
   ],
   "source": [
    "instrument"
   ]
  },
  {
   "cell_type": "code",
   "execution_count": 19,
   "metadata": {},
   "outputs": [
    {
     "data": {
      "text/plain": [
       "305    0.930851\n",
       "304    0.940918\n",
       "303    0.949097\n",
       "302    0.939148\n",
       "301    0.966043\n",
       "300    0.986222\n",
       "299    0.970106\n",
       "298    0.953105\n",
       "297    0.972404\n",
       "296    0.983059\n",
       "295    0.959559\n",
       "294    0.944436\n",
       "293    0.967308\n",
       "292    0.979624\n",
       "291    0.979757\n",
       "290    0.967600\n",
       "289    0.994974\n",
       "288    1.000000\n",
       "287    0.989459\n",
       "286    0.956288\n",
       "285    0.967570\n",
       "284    0.944313\n",
       "283    0.933969\n",
       "282    0.912249\n",
       "281    0.920883\n",
       "280    0.926215\n",
       "279    0.927441\n",
       "278    0.914839\n",
       "277    0.944545\n",
       "276    0.945203\n",
       "         ...   \n",
       "236    0.687168\n",
       "235    0.669950\n",
       "234    0.668284\n",
       "233    0.651719\n",
       "232    0.634451\n",
       "231    0.626484\n",
       "230    0.618834\n",
       "229    0.631016\n",
       "228    0.618567\n",
       "227    0.624700\n",
       "226    0.626435\n",
       "225    0.619012\n",
       "224    0.586983\n",
       "223    0.586058\n",
       "222    0.597638\n",
       "221    0.556589\n",
       "220    0.541274\n",
       "219    0.523378\n",
       "218    0.507939\n",
       "217    0.467202\n",
       "216    0.442872\n",
       "215    0.386063\n",
       "214    0.358250\n",
       "213    0.314127\n",
       "212    0.270014\n",
       "211    0.242388\n",
       "210    0.214717\n",
       "209    0.167931\n",
       "208    0.108068\n",
       "207    0.000000\n",
       "Name: albumin_avg, Length: 99, dtype: float64"
      ]
     },
     "execution_count": 19,
     "metadata": {},
     "output_type": "execute_result"
    }
   ],
   "source": [
    "alb"
   ]
  },
  {
   "cell_type": "code",
   "execution_count": 20,
   "metadata": {},
   "outputs": [
    {
     "data": {
      "image/png": "[encoded data removed]",
      "text/plain": [
       "<matplotlib.figure.Figure at 0x9a90438>"
      ]
     },
     "metadata": {},
     "output_type": "display_data"
    }
   ],
   "source": [
    "import matplotlib.pyplot as plt\n",
    "\n",
    "alb.plot()\n",
    "plt.show()"
   ]
  },
  {
   "cell_type": "code",
   "execution_count": 21,
   "metadata": {},
   "outputs": [
    {
     "ename": "KeyError",
     "evalue": "'the label [albumin_avg] is not in the [index]'",
     "output_type": "error",
     "traceback": [
      "\u001b[1;31m---------------------------------------------------------------------------\u001b[0m",
      "\u001b[1;31mKeyError\u001b[0m                                  Traceback (most recent call last)",
      "\u001b[1;32mC:\\Anaconda3\\lib\\site-packages\\pandas\\core\\indexing.py\u001b[0m in \u001b[0;36m_has_valid_type\u001b[1;34m(self, key, axis)\u001b[0m\n\u001b[0;32m   1433\u001b[0m                 \u001b[1;32mif\u001b[0m \u001b[1;32mnot\u001b[0m \u001b[0max\u001b[0m\u001b[1;33m.\u001b[0m\u001b[0mcontains\u001b[0m\u001b[1;33m(\u001b[0m\u001b[0mkey\u001b[0m\u001b[1;33m)\u001b[0m\u001b[1;33m:\u001b[0m\u001b[1;33m\u001b[0m\u001b[0m\n\u001b[1;32m-> 1434\u001b[1;33m                     \u001b[0merror\u001b[0m\u001b[1;33m(\u001b[0m\u001b[1;33m)\u001b[0m\u001b[1;33m\u001b[0m\u001b[0m\n\u001b[0m\u001b[0;32m   1435\u001b[0m             \u001b[1;32mexcept\u001b[0m \u001b[0mTypeError\u001b[0m \u001b[1;32mas\u001b[0m \u001b[0me\u001b[0m\u001b[1;33m:\u001b[0m\u001b[1;33m\u001b[0m\u001b[0m\n",
      "\u001b[1;32mC:\\Anaconda3\\lib\\site-packages\\pandas\\core\\indexing.py\u001b[0m in \u001b[0;36merror\u001b[1;34m()\u001b[0m\n\u001b[0;32m   1428\u001b[0m                 raise KeyError(\"the label [%s] is not in the [%s]\" %\n\u001b[1;32m-> 1429\u001b[1;33m                                (key, self.obj._get_axis_name(axis)))\n\u001b[0m\u001b[0;32m   1430\u001b[0m \u001b[1;33m\u001b[0m\u001b[0m\n",
      "\u001b[1;31mKeyError\u001b[0m: 'the label [albumin_avg] is not in the [index]'",
      "\nDuring handling of the above exception, another exception occurred:\n",
      "\u001b[1;31mKeyError\u001b[0m                                  Traceback (most recent call last)",
      "\u001b[1;32m<ipython-input-21-38fce19a296f>\u001b[0m in \u001b[0;36m<module>\u001b[1;34m()\u001b[0m\n\u001b[1;32m----> 1\u001b[1;33m \u001b[0mdf\u001b[0m\u001b[1;33m.\u001b[0m\u001b[0mloc\u001b[0m\u001b[1;33m[\u001b[0m\u001b[1;34m'albumin_avg'\u001b[0m\u001b[1;33m]\u001b[0m\u001b[1;33m.\u001b[0m\u001b[0mplot\u001b[0m\u001b[1;33m(\u001b[0m\u001b[1;33m)\u001b[0m\u001b[1;33m\u001b[0m\u001b[0m\n\u001b[0m\u001b[0;32m      2\u001b[0m \u001b[0mplt\u001b[0m\u001b[1;33m.\u001b[0m\u001b[0mshow\u001b[0m\u001b[1;33m(\u001b[0m\u001b[1;33m)\u001b[0m\u001b[1;33m\u001b[0m\u001b[0m\n",
      "\u001b[1;32mC:\\Anaconda3\\lib\\site-packages\\pandas\\core\\indexing.py\u001b[0m in \u001b[0;36m__getitem__\u001b[1;34m(self, key)\u001b[0m\n\u001b[0;32m   1326\u001b[0m         \u001b[1;32melse\u001b[0m\u001b[1;33m:\u001b[0m\u001b[1;33m\u001b[0m\u001b[0m\n\u001b[0;32m   1327\u001b[0m             \u001b[0mkey\u001b[0m \u001b[1;33m=\u001b[0m \u001b[0mcom\u001b[0m\u001b[1;33m.\u001b[0m\u001b[0m_apply_if_callable\u001b[0m\u001b[1;33m(\u001b[0m\u001b[0mkey\u001b[0m\u001b[1;33m,\u001b[0m \u001b[0mself\u001b[0m\u001b[1;33m.\u001b[0m\u001b[0mobj\u001b[0m\u001b[1;33m)\u001b[0m\u001b[1;33m\u001b[0m\u001b[0m\n\u001b[1;32m-> 1328\u001b[1;33m             \u001b[1;32mreturn\u001b[0m \u001b[0mself\u001b[0m\u001b[1;33m.\u001b[0m\u001b[0m_getitem_axis\u001b[0m\u001b[1;33m(\u001b[0m\u001b[0mkey\u001b[0m\u001b[1;33m,\u001b[0m \u001b[0maxis\u001b[0m\u001b[1;33m=\u001b[0m\u001b[1;36m0\u001b[0m\u001b[1;33m)\u001b[0m\u001b[1;33m\u001b[0m\u001b[0m\n\u001b[0m\u001b[0;32m   1329\u001b[0m \u001b[1;33m\u001b[0m\u001b[0m\n\u001b[0;32m   1330\u001b[0m     \u001b[1;32mdef\u001b[0m \u001b[0m_is_scalar_access\u001b[0m\u001b[1;33m(\u001b[0m\u001b[0mself\u001b[0m\u001b[1;33m,\u001b[0m \u001b[0mkey\u001b[0m\u001b[1;33m)\u001b[0m\u001b[1;33m:\u001b[0m\u001b[1;33m\u001b[0m\u001b[0m\n",
      "\u001b[1;32mC:\\Anaconda3\\lib\\site-packages\\pandas\\core\\indexing.py\u001b[0m in \u001b[0;36m_getitem_axis\u001b[1;34m(self, key, axis)\u001b[0m\n\u001b[0;32m   1549\u001b[0m \u001b[1;33m\u001b[0m\u001b[0m\n\u001b[0;32m   1550\u001b[0m         \u001b[1;31m# fall thru to straight lookup\u001b[0m\u001b[1;33m\u001b[0m\u001b[1;33m\u001b[0m\u001b[0m\n\u001b[1;32m-> 1551\u001b[1;33m         \u001b[0mself\u001b[0m\u001b[1;33m.\u001b[0m\u001b[0m_has_valid_type\u001b[0m\u001b[1;33m(\u001b[0m\u001b[0mkey\u001b[0m\u001b[1;33m,\u001b[0m \u001b[0maxis\u001b[0m\u001b[1;33m)\u001b[0m\u001b[1;33m\u001b[0m\u001b[0m\n\u001b[0m\u001b[0;32m   1552\u001b[0m         \u001b[1;32mreturn\u001b[0m \u001b[0mself\u001b[0m\u001b[1;33m.\u001b[0m\u001b[0m_get_label\u001b[0m\u001b[1;33m(\u001b[0m\u001b[0mkey\u001b[0m\u001b[1;33m,\u001b[0m \u001b[0maxis\u001b[0m\u001b[1;33m=\u001b[0m\u001b[0maxis\u001b[0m\u001b[1;33m)\u001b[0m\u001b[1;33m\u001b[0m\u001b[0m\n\u001b[0;32m   1553\u001b[0m \u001b[1;33m\u001b[0m\u001b[0m\n",
      "\u001b[1;32mC:\\Anaconda3\\lib\\site-packages\\pandas\\core\\indexing.py\u001b[0m in \u001b[0;36m_has_valid_type\u001b[1;34m(self, key, axis)\u001b[0m\n\u001b[0;32m   1440\u001b[0m                 \u001b[1;32mraise\u001b[0m\u001b[1;33m\u001b[0m\u001b[0m\n\u001b[0;32m   1441\u001b[0m             \u001b[1;32mexcept\u001b[0m\u001b[1;33m:\u001b[0m\u001b[1;33m\u001b[0m\u001b[0m\n\u001b[1;32m-> 1442\u001b[1;33m                 \u001b[0merror\u001b[0m\u001b[1;33m(\u001b[0m\u001b[1;33m)\u001b[0m\u001b[1;33m\u001b[0m\u001b[0m\n\u001b[0m\u001b[0;32m   1443\u001b[0m \u001b[1;33m\u001b[0m\u001b[0m\n\u001b[0;32m   1444\u001b[0m         \u001b[1;32mreturn\u001b[0m \u001b[1;32mTrue\u001b[0m\u001b[1;33m\u001b[0m\u001b[0m\n",
      "\u001b[1;32mC:\\Anaconda3\\lib\\site-packages\\pandas\\core\\indexing.py\u001b[0m in \u001b[0;36merror\u001b[1;34m()\u001b[0m\n\u001b[0;32m   1427\u001b[0m                                     \"key\")\n\u001b[0;32m   1428\u001b[0m                 raise KeyError(\"the label [%s] is not in the [%s]\" %\n\u001b[1;32m-> 1429\u001b[1;33m                                (key, self.obj._get_axis_name(axis)))\n\u001b[0m\u001b[0;32m   1430\u001b[0m \u001b[1;33m\u001b[0m\u001b[0m\n\u001b[0;32m   1431\u001b[0m             \u001b[1;32mtry\u001b[0m\u001b[1;33m:\u001b[0m\u001b[1;33m\u001b[0m\u001b[0m\n",
      "\u001b[1;31mKeyError\u001b[0m: 'the label [albumin_avg] is not in the [index]'"
     ]
    }
   ],
   "source": [
    "df.loc['albumin_avg'].plot()\n",
    "plt.show()"
   ]
  },
  {
   "cell_type": "code",
   "execution_count": null,
   "metadata": {},
   "outputs": [],
   "source": [
    "df"
   ]
  },
  {
   "cell_type": "code",
   "execution_count": null,
   "metadata": {},
   "outputs": [],
   "source": [
    "instruments"
   ]
  },
  {
   "cell_type": "code",
   "execution_count": null,
   "metadata": {
    "collapsed": true
   },
   "outputs": [],
   "source": []
  }
 ],
 "metadata": {
  "kernelspec": {
   "display_name": "Python 3",
   "language": "python",
   "name": "python3"
  },
  "language_info": {
   "codemirror_mode": {
    "name": "ipython",
    "version": 3
   },
   "file_extension": ".py",
   "mimetype": "text/x-python",
   "name": "python",
   "nbconvert_exporter": "python",
   "pygments_lexer": "ipython3",
   "version": "3.6.3"
  }
 },
 "nbformat": 4,
 "nbformat_minor": 2
}
