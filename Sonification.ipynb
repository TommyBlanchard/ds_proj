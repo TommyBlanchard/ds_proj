{
 "cells": [
  {
   "cell_type": "code",
   "execution_count": 1277,
   "metadata": {
    "collapsed": true
   },
   "outputs": [],
   "source": [
    "import pandas as pd\n",
    "import math\n",
    "\n",
    "\"\"\"\n",
    "Data acquisition of data for sonification, plus some preprocessing\n",
    "\"\"\"\n",
    "# Read the data in\n",
    "df = pd.read_csv('backward_all.csv')"
   ]
  },
  {
   "cell_type": "code",
   "execution_count": 1278,
   "metadata": {
    "collapsed": true
   },
   "outputs": [],
   "source": [
    "# Convert to negative weeks to death, so numbers are in chronological order\n",
    "df = df.sort_values(by='weeks_to_death', ascending=False)"
   ]
  },
  {
   "cell_type": "code",
   "execution_count": 1279,
   "metadata": {},
   "outputs": [],
   "source": [
    "#df.head()"
   ]
  },
  {
   "cell_type": "code",
   "execution_count": 1280,
   "metadata": {
    "collapsed": true
   },
   "outputs": [],
   "source": [
    "# Select var average for FEMALES in FMC_EUROPE\n",
    "# Get subset of the dataframe to sonify - already sorted by weeks_to_death desc\n",
    "test_var = df.loc[(df['database'] == 'FMC_EUROPE') & (df['MALE'] == 0), 'pre_sbp_avg']\n",
    "#test_var = df.loc[(df['database'] == 'FMC_EUROPE') & (df['MALE'] == 0), 'albumin_avg']\n",
    "\n",
    "#take 5 week rolling average, then normalize the values\n",
    "test_var = test_var.rolling(5).mean()[5:]\n",
    "test_var = (test_var - test_var.min())/(test_var.max() - test_var.min())"
   ]
  },
  {
   "cell_type": "code",
   "execution_count": 1281,
   "metadata": {},
   "outputs": [],
   "source": [
    "\"\"\"\n",
    "Global Variables\n",
    "\"\"\"\n",
    "# Music Config\n",
    "BPM = 120 # Beats per minute, e.g. 60, 75, 100, 120, 150\n",
    "DIVISIONS_PER_BEAT = 4 # e.g. 4 = quarter notes, 8 = eighth notes\n",
    "VARIANCE_MS = 20 # +/- milliseconds an instrument note should be off by to give it a little more \"natural\" feel\n",
    "VARIANCE_RATE = 0 # for adding variance to the playback rate\n",
    "BEAT_MS = round(60.0 / BPM * 1000) # ms in a beat - 500\n",
    "# File config\n",
    "INSTRUMENTS_INPUT_FILE = 'son_instruments.csv'\n",
    "INSTRUMENTS_OUTPUT_FILE = 'data/chk_instruments.csv'\n",
    "SEQUENCE_OUTPUT_FILE = 'data/chk_sequence.csv'\n",
    "INSTRUMENTS_DIR = 'instruments/'"
   ]
  },
  {
   "cell_type": "code",
   "execution_count": 1282,
   "metadata": {
    "collapsed": true
   },
   "outputs": [],
   "source": [
    "\"\"\"\n",
    "Helper functions\n",
    "\"\"\"\n",
    "# For getting pseudo-random numbers\n",
    "def halton(index, base):\n",
    "    result = 0.0\n",
    "    f = 1.0 / base\n",
    "    i = 1.0 * index\n",
    "    while(i > 0):\n",
    "        result += f * (i % base)  \n",
    "        i = math.floor(i / base)\n",
    "        f = f / base\n",
    "    return result"
   ]
  },
  {
   "cell_type": "code",
   "execution_count": 1283,
   "metadata": {},
   "outputs": [],
   "source": [
    "\"\"\"\n",
    "Data acquisition of instruments\n",
    "\"\"\"\n",
    "# Read in instruments data, do some preprocessing\n",
    "instruments = pd.read_table(INSTRUMENTS_INPUT_FILE)\n",
    "instruments['Type'] = instruments['Type'].str.lower().str.replace(' ','_')\n",
    "instruments['File'] = INSTRUMENTS_DIR + instruments['File']"
   ]
  },
  {
   "cell_type": "code",
   "execution_count": 1284,
   "metadata": {
    "collapsed": true
   },
   "outputs": [],
   "source": [
    "\"\"\"\n",
    "Writing to the sequence file that will create the musical sequence (the song)\n",
    "@param  gain        The gain (volume) of the instrument - this will be equivilent to the value of the variable that week\n",
    "@param  instrument  The current instrument being added\n",
    "@param  ms          The current location in the sequence (song)\n",
    "@param  duration    The number of ms that makes up a data point (week) in the sequence (song)\n",
    "\"\"\"\n",
    "\"\"\"\n",
    "Explanation of Tempo Offset\n",
    "    Tempo Offset of 0 will play the instrument on the fitst beat\n",
    "    Tempo Offset of 0.5 will play the instrument on the offbeat\n",
    "    Tempo Offset of 1 will play the instrument on the second beat\n",
    "\"\"\"\n",
    "def addBeatsToSequence(gain, instrument, ms, duration):\n",
    "    global sequence\n",
    "    global hindex\n",
    "    # Will this instrument be offset? Get the amount of ms the instrument will be offset\n",
    "    offset_ms = int(instrument['Tempo Offset'] * BEAT_MS)\n",
    "    # Add the offset to the place in the sequence (song)\n",
    "    ms += offset_ms\n",
    "    # Generate a pseudo-random number to create a pseudo-random variance\n",
    "    h = halton(hindex, 3)\n",
    "    variance = int(h * VARIANCE_MS * 2 - VARIANCE_MS)\n",
    "    rate_variance = float(h * VARIANCE_RATE * 2 - VARIANCE_RATE) # This is currently always 0\n",
    "    sequence.append({\n",
    "        'instrument_index': instrument['index'],\n",
    "        'instrument': instrument,\n",
    "        'position': 0,\n",
    "        'gain': round(gain, 2),\n",
    "        'rate': 0.5 + rate_variance, # CRK try as 1.0 as well; do we need variance_rate\n",
    "        'elapsed_ms': max([ms + variance, 0])\n",
    "    })\n",
    "    hindex += 1\n",
    "    # increment where we are in the song\n",
    "    ms += duration"
   ]
  },
  {
   "cell_type": "code",
   "execution_count": 1285,
   "metadata": {},
   "outputs": [],
   "source": [
    "\"\"\"\n",
    "This is where the sequence is built\n",
    "    Make a set duration for how long we will spend on each data point (in this case, each data point represents a week)\n",
    "    Loop through each instrument in the given instrument csv\n",
    "    For each instrument, loop through the variable values\n",
    "        An instrument is played for the variable if the value of the variable is greater than the allowed variable for the instrument\n",
    "            If an instrument is played, add that beat to the sequence file\n",
    "        Incrument where we are in the song (ms defines where we are in the song)\n",
    "\"\"\"\n",
    "# Amount of time, in MS, to spend on each data point\n",
    "week_duration = 500\n",
    "sequence = []\n",
    "hindex = 0\n",
    "\n",
    "# Loop through each instrument\n",
    "for index, instrument in enumerate(instruments.iterrows()):\n",
    "    # ms represents the current place in the sequence (song)\n",
    "    ms = 0\n",
    "    # Skip the first line of the instrument file (headers)\n",
    "    instrument = instrument[1]\n",
    "    instrument['index'] = index\n",
    "    min_var = instrument['Min Var']\n",
    "    #Loop through each week's value\n",
    "    for week_val in test_var:\n",
    "        play_instrument = (week_val*100) > min_var\n",
    "        if play_instrument:\n",
    "            addBeatsToSequence(week_val, instrument, ms, week_duration)\n",
    "        ms += week_duration"
   ]
  },
  {
   "cell_type": "code",
   "execution_count": 1286,
   "metadata": {
    "collapsed": true
   },
   "outputs": [],
   "source": [
    "# Sort sequence so beats happen in chronological order\n",
    "sequence = sorted(sequence, key=lambda k: k['elapsed_ms'])\n",
    "\n",
    "# Add milliseconds to sequence\n",
    "elapsed = 0\n",
    "for index, step in enumerate(sequence):\n",
    "    sequence[index]['milliseconds'] = step['elapsed_ms'] - elapsed\n",
    "    elapsed = step['elapsed_ms']\n"
   ]
  },
  {
   "cell_type": "code",
   "execution_count": 1287,
   "metadata": {
    "scrolled": false
   },
   "outputs": [
    {
     "name": "stdout",
     "output_type": "stream",
     "text": [
      "Successfully wrote instruments to file: data/chk_instruments.csv\n",
      "Successfully wrote sequence to file: data/chk_sequence.csv\n"
     ]
    }
   ],
   "source": [
    "\"\"\"\n",
    "Write to the files that will be used by ChucK\n",
    "\"\"\"\n",
    "import csv\n",
    "import os \n",
    "\n",
    "# Write instruments to file\n",
    "with open(INSTRUMENTS_OUTPUT_FILE, 'w') as f:\n",
    "    w = csv.writer(f)\n",
    "    for index, instrument in enumerate(instruments.iterrows()):\n",
    "        w.writerow([index])\n",
    "        w.writerow([instrument[1]['File']])\n",
    "    f.seek(0, os.SEEK_END) # remove newline\n",
    "    f.truncate()\n",
    "    print('Successfully wrote instruments to file: '+ INSTRUMENTS_OUTPUT_FILE)\n",
    "\n",
    "# Write sequence to file\n",
    "with open(SEQUENCE_OUTPUT_FILE, 'w') as f:\n",
    "    w = csv.writer(f)\n",
    "    for step in sequence:\n",
    "        w.writerow([step['instrument_index']])\n",
    "        w.writerow([step['position']])\n",
    "        w.writerow([step['gain']])\n",
    "        w.writerow([step['rate']])\n",
    "        w.writerow([step['milliseconds']])\n",
    "    f.seek(0, os.SEEK_END) # remove newline\n",
    "    f.truncate()\n",
    "    print('Successfully wrote sequence to file: '+ SEQUENCE_OUTPUT_FILE)\n"
   ]
  },
  {
   "cell_type": "code",
   "execution_count": 1288,
   "metadata": {},
   "outputs": [],
   "source": [
    "#instrument"
   ]
  },
  {
   "cell_type": "code",
   "execution_count": 1289,
   "metadata": {},
   "outputs": [],
   "source": [
    "#test_var"
   ]
  },
  {
   "cell_type": "code",
   "execution_count": 1290,
   "metadata": {
    "scrolled": true
   },
   "outputs": [
    {
     "data": {
      "image/png": "[encoded data removed]",
      "text/plain": [
       "<matplotlib.figure.Figure at 0xbbaec50>"
      ]
     },
     "metadata": {},
     "output_type": "display_data"
    }
   ],
   "source": [
    "import matplotlib.pyplot as plt\n",
    "\n",
    "test_var.plot()\n",
    "plt.show()"
   ]
  },
  {
   "cell_type": "code",
   "execution_count": 1291,
   "metadata": {},
   "outputs": [],
   "source": [
    "#df.head()"
   ]
  },
  {
   "cell_type": "code",
   "execution_count": 1292,
   "metadata": {},
   "outputs": [],
   "source": [
    "#instruments"
   ]
  },
  {
   "cell_type": "code",
   "execution_count": null,
   "metadata": {
    "collapsed": true
   },
   "outputs": [],
   "source": []
  }
 ],
 "metadata": {
  "kernelspec": {
   "display_name": "Python 3",
   "language": "python",
   "name": "python3"
  },
  "language_info": {
   "codemirror_mode": {
    "name": "ipython",
    "version": 3
   },
   "file_extension": ".py",
   "mimetype": "text/x-python",
   "name": "python",
   "nbconvert_exporter": "python",
   "pygments_lexer": "ipython3",
   "version": "3.6.3"
  }
 },
 "nbformat": 4,
 "nbformat_minor": 2
}
